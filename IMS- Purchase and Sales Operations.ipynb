{
 "cells": [
  {
   "cell_type": "markdown",
   "metadata": {},
   "source": [
    "### Reading data from Inventory"
   ]
  },
  {
   "cell_type": "code",
   "execution_count": 13,
   "metadata": {},
   "outputs": [],
   "source": [
    "import json\n",
    "\n",
    "fd = open(\"record.json\",'r')\n",
    "r = fd.read()\n",
    "fd.close()\n",
    "\n",
    "record = json.loads(r)"
   ]
  },
  {
   "cell_type": "code",
   "execution_count": 14,
   "metadata": {},
   "outputs": [
    {
     "data": {
      "text/plain": [
       "{'1001': {'name': 'Choco Cake', 'qn': 34, 'pr': 100},\n",
       " '1002': {'name': 'Milk Cake', 'pr': 800, 'qn': 100},\n",
       " '1003': {'name': 'Drink', 'pr': 85, 'qn': 100},\n",
       " '1004': {'name': 'Candy', 'pr': 5, 'qn': 1000},\n",
       " '1005': {'name': 'Pen', 'pr': 20, 'qn': 100},\n",
       " '1006': {'name': 'Phone', 'pr': 50000, 'qn': 10},\n",
       " '1007': {'name': 'Mic', 'pr': 1500, 'qn': 20},\n",
       " '1008': {'name': 'Case', 'pr': 599, 'qn': 5},\n",
       " '1009': {'name': 'Keyboard', 'pr': 1999, 'qn': 10},\n",
       " '1010': {'name': 'Mineral Water Bottle', 'pr': '20', 'qn': '130'},\n",
       " '1011': {'name': 'Scissors', 'pr': '50', 'qn': '200'},\n",
       " '1012': {'name': 'Stapler', 'pr': '35', 'qn': '80'},\n",
       " '1013': {'name': 'Eraser', 'pr': '15', 'qn': '210'},\n",
       " '1014': {'name': 'Sharpener', 'pr': '20', 'qn': '100'},\n",
       " '1015': {'name': 'Kurkure', 'pr': '20', 'qn': '300'},\n",
       " '1016': {'name': 'Lays', 'pr': '35', 'qn': '300'},\n",
       " '1017': {'name': 'Ruler', 'pr': '15', 'qn': '120'},\n",
       " '1018': {'name': 'Notebook', 'pr': '56', 'qn': '400'},\n",
       " '1019': {'name': 'Geometry Box', 'pr': '60', 'qn': '150'},\n",
       " '1020': {'name': 'Pendrive', 'pr': '200', 'qn': '280'},\n",
       " '1021': {'name': 'Chartpaper', 'pr': '13', 'qn': '70'},\n",
       " '1022': {'name': 'Fluorescent Sheet', 'pr': '23', 'qn': '100'},\n",
       " '1023': {'name': 'Diary', 'pr': '180', 'qn': '100'},\n",
       " '1024': {'name': 'Glue', 'pr': '10', 'qn': '60'},\n",
       " '1025': {'name': 'Headphones', 'pr': '500', 'qn': 110},\n",
       " '1026': {'name': 'Speaker', 'pr': '350', 'qn': '50'},\n",
       " '1027': {'name': 'Wallet', 'pr': '300', 'qn': '1028'},\n",
       " '1028': {'name': 'Carpet', 'pr': '670', 'qn': '240'},\n",
       " '1029': {'name': 'Allout', 'pr': '85', 'qn': '120'},\n",
       " '1030': {'name': 'Wireless Earphones', 'pr': '190', 'qn': '150'}}"
      ]
     },
     "execution_count": 14,
     "metadata": {},
     "output_type": "execute_result"
    }
   ],
   "source": [
    "record"
   ]
  },
  {
   "cell_type": "markdown",
   "metadata": {},
   "source": [
    "### Purchasing products"
   ]
  },
  {
   "cell_type": "code",
   "execution_count": 15,
   "metadata": {},
   "outputs": [
    {
     "name": "stdout",
     "output_type": "stream",
     "text": [
      "Enter product id: 1005\n",
      "Enter the quantity you want to purchase: 10\n",
      "******************************\n",
      "SHOP RECEIPT\n",
      "Mon Sep 06 2021 22:27:28\n",
      "Product:  Pen\n",
      "Price:  20\n",
      "Quantity:  10\n",
      "-------------------------------\n",
      "Billing Amount:  200\n",
      "******************************\n",
      "Thank You for Shopping!!\n"
     ]
    }
   ],
   "source": [
    "import datetime\n",
    "    \n",
    "x = datetime.datetime.now()\n",
    "\n",
    "cust_prod = input(\"Enter product id: \")\n",
    "if cust_prod in record:\n",
    "    cust_quant = int(input(\"Enter the quantity you want to purchase: \"))\n",
    "    if cust_quant <= record[cust_prod]['qn']:\n",
    "        print(\"******************************\")\n",
    "        print(\"SHOP RECEIPT\")\n",
    "        print(x.strftime(\"%a %b %d %Y %H:%M:%S\"))\n",
    "        print(\"Product: \", record[cust_prod]['name'])\n",
    "        print(\"Price: \", record[cust_prod]['pr'])\n",
    "        print(\"Quantity: \", cust_quant)\n",
    "        print(\"-------------------------------\")\n",
    "        print(\"Billing Amount: \", int(record[cust_prod]['pr']) * cust_quant)\n",
    "        print(\"******************************\")\n",
    "        print(\"Thank You for Shopping!!\")\n",
    "        record[cust_prod]['qn'] = int(record[cust_prod]['qn'])- cust_quant\n",
    "    else:\n",
    "        print(\"Available quantity is :\",record[cust_prod]['qn'])\n",
    "else:\n",
    "    print(\"Product not available!\")\n",
    "        "
   ]
  },
  {
   "cell_type": "markdown",
   "metadata": {},
   "source": [
    "### Updating Inventory after sales"
   ]
  },
  {
   "cell_type": "code",
   "execution_count": 16,
   "metadata": {},
   "outputs": [],
   "source": [
    "js = json.dumps(record)\n",
    "\n",
    "fd = open(\"record.json\",'w')\n",
    "fd.write(js)\n",
    "fd.close()"
   ]
  },
  {
   "cell_type": "code",
   "execution_count": 17,
   "metadata": {},
   "outputs": [
    {
     "data": {
      "text/plain": [
       "{'1001': {'name': 'Choco Cake', 'qn': 34, 'pr': 100},\n",
       " '1002': {'name': 'Milk Cake', 'pr': 800, 'qn': 100},\n",
       " '1003': {'name': 'Drink', 'pr': 85, 'qn': 100},\n",
       " '1004': {'name': 'Candy', 'pr': 5, 'qn': 1000},\n",
       " '1005': {'name': 'Pen', 'pr': 20, 'qn': 90},\n",
       " '1006': {'name': 'Phone', 'pr': 50000, 'qn': 10},\n",
       " '1007': {'name': 'Mic', 'pr': 1500, 'qn': 20},\n",
       " '1008': {'name': 'Case', 'pr': 599, 'qn': 5},\n",
       " '1009': {'name': 'Keyboard', 'pr': 1999, 'qn': 10},\n",
       " '1010': {'name': 'Mineral Water Bottle', 'pr': '20', 'qn': '130'},\n",
       " '1011': {'name': 'Scissors', 'pr': '50', 'qn': '200'},\n",
       " '1012': {'name': 'Stapler', 'pr': '35', 'qn': '80'},\n",
       " '1013': {'name': 'Eraser', 'pr': '15', 'qn': '210'},\n",
       " '1014': {'name': 'Sharpener', 'pr': '20', 'qn': '100'},\n",
       " '1015': {'name': 'Kurkure', 'pr': '20', 'qn': '300'},\n",
       " '1016': {'name': 'Lays', 'pr': '35', 'qn': '300'},\n",
       " '1017': {'name': 'Ruler', 'pr': '15', 'qn': '120'},\n",
       " '1018': {'name': 'Notebook', 'pr': '56', 'qn': '400'},\n",
       " '1019': {'name': 'Geometry Box', 'pr': '60', 'qn': '150'},\n",
       " '1020': {'name': 'Pendrive', 'pr': '200', 'qn': '280'},\n",
       " '1021': {'name': 'Chartpaper', 'pr': '13', 'qn': '70'},\n",
       " '1022': {'name': 'Fluorescent Sheet', 'pr': '23', 'qn': '100'},\n",
       " '1023': {'name': 'Diary', 'pr': '180', 'qn': '100'},\n",
       " '1024': {'name': 'Glue', 'pr': '10', 'qn': '60'},\n",
       " '1025': {'name': 'Headphones', 'pr': '500', 'qn': 110},\n",
       " '1026': {'name': 'Speaker', 'pr': '350', 'qn': '50'},\n",
       " '1027': {'name': 'Wallet', 'pr': '300', 'qn': '1028'},\n",
       " '1028': {'name': 'Carpet', 'pr': '670', 'qn': '240'},\n",
       " '1029': {'name': 'Allout', 'pr': '85', 'qn': '120'},\n",
       " '1030': {'name': 'Wireless Earphones', 'pr': '190', 'qn': '150'}}"
      ]
     },
     "execution_count": 17,
     "metadata": {},
     "output_type": "execute_result"
    }
   ],
   "source": [
    "record"
   ]
  },
  {
   "cell_type": "markdown",
   "metadata": {},
   "source": [
    "### Generating Sales JSON File"
   ]
  },
  {
   "cell_type": "code",
   "execution_count": 18,
   "metadata": {},
   "outputs": [],
   "source": [
    "sales ={1:{\"prod_id\":'1027',\"prod_name\": \"Wallet\",\"quan\":1,\"amount\":300},\n",
    "        2:{\"prod_id\":'1018',\"prod_name\": \"Notebook\",\"quan\":5,\"amount\":280},\n",
    "        3:{\"prod_id\":'1016',\"prod_name\": \"Lays\",\"quan\":1,\"amount\":35}\n",
    "       }"
   ]
  },
  {
   "cell_type": "code",
   "execution_count": 19,
   "metadata": {},
   "outputs": [],
   "source": [
    "sales[len(sales)+1] = {\"prod_id\":cust_prod,\"prod_name\":record[cust_prod][\"name\"],\"quan\":cust_quant,\"amount\":int(record[cust_prod]['pr']) * cust_quant}"
   ]
  },
  {
   "cell_type": "code",
   "execution_count": 20,
   "metadata": {},
   "outputs": [],
   "source": [
    "prod_sales = json.dumps(sales)"
   ]
  },
  {
   "cell_type": "code",
   "execution_count": 21,
   "metadata": {},
   "outputs": [],
   "source": [
    "fd = open(\"prod_sales.json\",\"w\")\n",
    "fd.write(prod_sales)\n",
    "fd.close()"
   ]
  },
  {
   "cell_type": "code",
   "execution_count": 22,
   "metadata": {},
   "outputs": [
    {
     "data": {
      "text/plain": [
       "'{\"1\": {\"prod_id\": \"1027\", \"prod_name\": \"Wallet\", \"quan\": 1, \"amount\": 300}, \"2\": {\"prod_id\": \"1018\", \"prod_name\": \"Notebook\", \"quan\": 5, \"amount\": 280}, \"3\": {\"prod_id\": \"1016\", \"prod_name\": \"Lays\", \"quan\": 1, \"amount\": 35}, \"4\": {\"prod_id\": \"1005\", \"prod_name\": \"Pen\", \"quan\": 10, \"amount\": 200}}'"
      ]
     },
     "execution_count": 22,
     "metadata": {},
     "output_type": "execute_result"
    }
   ],
   "source": [
    "prod_sales"
   ]
  }
 ],
 "metadata": {
  "kernelspec": {
   "display_name": "Python 3",
   "language": "python",
   "name": "python3"
  },
  "language_info": {
   "codemirror_mode": {
    "name": "ipython",
    "version": 3
   },
   "file_extension": ".py",
   "mimetype": "text/x-python",
   "name": "python",
   "nbconvert_exporter": "python",
   "pygments_lexer": "ipython3",
   "version": "3.7.6"
  }
 },
 "nbformat": 4,
 "nbformat_minor": 4
}
