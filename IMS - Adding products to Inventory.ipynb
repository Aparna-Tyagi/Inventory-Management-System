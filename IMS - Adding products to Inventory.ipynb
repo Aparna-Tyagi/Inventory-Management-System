{
 "cells": [
  {
   "cell_type": "code",
   "execution_count": 1,
   "metadata": {},
   "outputs": [],
   "source": [
    "import json\n",
    "\n",
    "fd = open(\"record.json\",'r')\n",
    "r = fd.read()\n",
    "fd.close()"
   ]
  },
  {
   "cell_type": "code",
   "execution_count": 2,
   "metadata": {},
   "outputs": [],
   "source": [
    "record = json.loads(r)"
   ]
  },
  {
   "cell_type": "code",
   "execution_count": 3,
   "metadata": {},
   "outputs": [
    {
     "data": {
      "text/plain": [
       "{'1001': {'name': 'Choco Cake', 'qn': 34, 'pr': 100},\n",
       " '1002': {'name': 'Milk Cake', 'pr': 800, 'qn': 100},\n",
       " '1003': {'name': 'Drink', 'pr': 85, 'qn': 100},\n",
       " '1004': {'name': 'Candy', 'pr': 5, 'qn': 1000},\n",
       " '1005': {'name': 'Pen', 'pr': 20, 'qn': 100},\n",
       " '1006': {'name': 'Phone', 'pr': 50000, 'qn': 10},\n",
       " '1007': {'name': 'Mic', 'pr': 1500, 'qn': 10},\n",
       " '1008': {'name': 'Case', 'pr': 599, 'qn': 5},\n",
       " '1009': {'name': 'Keyboard', 'pr': 1999, 'qn': 10},\n",
       " '1010': {'name': 'Mineral Water Bottle', 'pr': '20', 'qn': '130'},\n",
       " '1011': {'name': 'Scissors', 'pr': '50', 'qn': '200'},\n",
       " '1012': {'name': 'Stapler', 'pr': '35', 'qn': '80'},\n",
       " '1013': {'name': 'Eraser', 'pr': '15', 'qn': '210'},\n",
       " '1014': {'name': 'Sharpener', 'pr': '20', 'qn': '100'},\n",
       " '1015': {'name': 'Kurkure', 'pr': '20', 'qn': '300'},\n",
       " '1016': {'name': 'Lays', 'pr': '35', 'qn': '300'},\n",
       " '1017': {'name': 'Ruler', 'pr': '15', 'qn': '120'},\n",
       " '1018': {'name': 'Notebook', 'pr': '56', 'qn': '400'},\n",
       " '1019': {'name': 'Geometry Box', 'pr': '60', 'qn': '150'},\n",
       " '1020': {'name': 'Pendrive', 'pr': '200', 'qn': '280'},\n",
       " '1021': {'name': 'Chartpaper', 'pr': '13', 'qn': '70'},\n",
       " '1022': {'name': 'Fluorescent Sheet', 'pr': '23', 'qn': '100'},\n",
       " '1023': {'name': 'Diary', 'pr': '180', 'qn': '100'},\n",
       " '1024': {'name': 'Glue', 'pr': '10', 'qn': '60'},\n",
       " '1025': {'name': 'Headphones', 'pr': '500', 'qn': 110},\n",
       " '1026': {'name': 'Speaker', 'pr': '350', 'qn': '50'},\n",
       " '1027': {'name': 'Wallet', 'pr': '300', 'qn': '1028'},\n",
       " '1028': {'name': 'Carpet', 'pr': '670', 'qn': '240'},\n",
       " '1029': {'name': 'Allout', 'pr': '85', 'qn': '120'},\n",
       " '1030': {'name': 'Wireless Earphones', 'pr': '190', 'qn': '150'}}"
      ]
     },
     "execution_count": 3,
     "metadata": {},
     "output_type": "execute_result"
    }
   ],
   "source": [
    "record"
   ]
  },
  {
   "cell_type": "markdown",
   "metadata": {},
   "source": [
    "### Adding new products to Inventory"
   ]
  },
  {
   "cell_type": "code",
   "execution_count": 4,
   "metadata": {},
   "outputs": [
    {
     "name": "stdout",
     "output_type": "stream",
     "text": [
      "Enter product id: 1007\n",
      "Enter product name: Mic\n",
      "Enter product price: 1500\n",
      "Enter product quantity: 10\n"
     ]
    }
   ],
   "source": [
    "prod_id = input(\"Enter product id: \")\n",
    "name = input(\"Enter product name: \")\n",
    "pr = input(\"Enter product price: \")\n",
    "qn = input(\"Enter product quantity: \")\n",
    "\n",
    "if prod_id in record:\n",
    "    record[prod_id]['qn']= (record[prod_id]['qn'] + int(qn))\n",
    "else:\n",
    "    record[prod_id] = {\"name\": name, \"pr\": pr, \"qn\": qn}\n",
    "\n",
    "js = json.dumps(record)\n",
    "\n",
    "fd=open(\"record.json\",'w')\n",
    "fd.write(js)\n",
    "fd.close()"
   ]
  },
  {
   "cell_type": "code",
   "execution_count": 5,
   "metadata": {},
   "outputs": [
    {
     "data": {
      "text/plain": [
       "{'1001': {'name': 'Choco Cake', 'qn': 34, 'pr': 100},\n",
       " '1002': {'name': 'Milk Cake', 'pr': 800, 'qn': 100},\n",
       " '1003': {'name': 'Drink', 'pr': 85, 'qn': 100},\n",
       " '1004': {'name': 'Candy', 'pr': 5, 'qn': 1000},\n",
       " '1005': {'name': 'Pen', 'pr': 20, 'qn': 100},\n",
       " '1006': {'name': 'Phone', 'pr': 50000, 'qn': 10},\n",
       " '1007': {'name': 'Mic', 'pr': 1500, 'qn': 20},\n",
       " '1008': {'name': 'Case', 'pr': 599, 'qn': 5},\n",
       " '1009': {'name': 'Keyboard', 'pr': 1999, 'qn': 10},\n",
       " '1010': {'name': 'Mineral Water Bottle', 'pr': '20', 'qn': '130'},\n",
       " '1011': {'name': 'Scissors', 'pr': '50', 'qn': '200'},\n",
       " '1012': {'name': 'Stapler', 'pr': '35', 'qn': '80'},\n",
       " '1013': {'name': 'Eraser', 'pr': '15', 'qn': '210'},\n",
       " '1014': {'name': 'Sharpener', 'pr': '20', 'qn': '100'},\n",
       " '1015': {'name': 'Kurkure', 'pr': '20', 'qn': '300'},\n",
       " '1016': {'name': 'Lays', 'pr': '35', 'qn': '300'},\n",
       " '1017': {'name': 'Ruler', 'pr': '15', 'qn': '120'},\n",
       " '1018': {'name': 'Notebook', 'pr': '56', 'qn': '400'},\n",
       " '1019': {'name': 'Geometry Box', 'pr': '60', 'qn': '150'},\n",
       " '1020': {'name': 'Pendrive', 'pr': '200', 'qn': '280'},\n",
       " '1021': {'name': 'Chartpaper', 'pr': '13', 'qn': '70'},\n",
       " '1022': {'name': 'Fluorescent Sheet', 'pr': '23', 'qn': '100'},\n",
       " '1023': {'name': 'Diary', 'pr': '180', 'qn': '100'},\n",
       " '1024': {'name': 'Glue', 'pr': '10', 'qn': '60'},\n",
       " '1025': {'name': 'Headphones', 'pr': '500', 'qn': 110},\n",
       " '1026': {'name': 'Speaker', 'pr': '350', 'qn': '50'},\n",
       " '1027': {'name': 'Wallet', 'pr': '300', 'qn': '1028'},\n",
       " '1028': {'name': 'Carpet', 'pr': '670', 'qn': '240'},\n",
       " '1029': {'name': 'Allout', 'pr': '85', 'qn': '120'},\n",
       " '1030': {'name': 'Wireless Earphones', 'pr': '190', 'qn': '150'}}"
      ]
     },
     "execution_count": 5,
     "metadata": {},
     "output_type": "execute_result"
    }
   ],
   "source": [
    "record"
   ]
  }
 ],
 "metadata": {
  "kernelspec": {
   "display_name": "Python 3",
   "language": "python",
   "name": "python3"
  },
  "language_info": {
   "codemirror_mode": {
    "name": "ipython",
    "version": 3
   },
   "file_extension": ".py",
   "mimetype": "text/x-python",
   "name": "python",
   "nbconvert_exporter": "python",
   "pygments_lexer": "ipython3",
   "version": "3.7.6"
  }
 },
 "nbformat": 4,
 "nbformat_minor": 4
}
